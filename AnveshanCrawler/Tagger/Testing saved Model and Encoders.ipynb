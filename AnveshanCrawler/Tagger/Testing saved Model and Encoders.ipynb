{
 "cells": [
  {
   "cell_type": "code",
   "execution_count": 14,
   "metadata": {},
   "outputs": [],
   "source": [
    "import pandas as pd\n",
    "import numpy as np\n",
    "from sklearn.feature_extraction.text import CountVectorizer, TfidfTransformer"
   ]
  },
  {
   "cell_type": "code",
   "execution_count": 2,
   "metadata": {},
   "outputs": [],
   "source": [
    "dataframe = pd.read_csv('./training_data.csv')\n",
    "dataframe = dataframe[dataframe['label'] != '[]']"
   ]
  },
  {
   "cell_type": "code",
   "execution_count": 5,
   "metadata": {},
   "outputs": [],
   "source": [
    "#load encoders\n",
    "import joblib\n",
    "cv = joblib.load('countvectorier.sav')\n",
    "tf = joblib.load('tfidftransformer.sav')"
   ]
  },
  {
   "cell_type": "code",
   "execution_count": 23,
   "metadata": {},
   "outputs": [
    {
     "data": {
      "text/plain": [
       "array([\"Unions representing workers at Turner   Newall say they are 'disappointed' after talks with stricken parent firm Federal Mogul.\"],\n",
       "      dtype='<U127')"
      ]
     },
     "execution_count": 23,
     "metadata": {},
     "output_type": "execute_result"
    }
   ],
   "source": [
    "np.array(dataframe['content'].values[0]).reshape(1, -1)[0]"
   ]
  },
  {
   "cell_type": "code",
   "execution_count": null,
   "metadata": {},
   "outputs": [],
   "source": []
  },
  {
   "cell_type": "code",
   "execution_count": 24,
   "metadata": {},
   "outputs": [],
   "source": [
    "count_vector = cv.transform(np.array(dataframe['content'].values[0]).reshape(1, -1)[0])\n",
    "tfidf_vector = tf.transform(count_vector)"
   ]
  },
  {
   "cell_type": "code",
   "execution_count": 6,
   "metadata": {},
   "outputs": [],
   "source": [
    "labels = ['ALcohol & Drugs',\n",
    " 'Business',\n",
    " 'Misogyny',\n",
    " 'Personal & Family',\n",
    " 'Politics',\n",
    " 'Profanity & Obscenity',\n",
    " 'Religion',\n",
    " 'SciTech',\n",
    " 'Sex',\n",
    " 'Sports',\n",
    " 'Work & Company',\n",
    " 'World']"
   ]
  },
  {
   "cell_type": "code",
   "execution_count": 7,
   "metadata": {},
   "outputs": [],
   "source": [
    "encoded_labels = []\n",
    "for label in dataframe['label']:\n",
    "    label = label.replace('[\\'', '')\n",
    "    label = label.replace('\\']', '')\n",
    "    label = label.replace('\\'', '')\n",
    "    #print(label.split(','))\n",
    "    vector = [0 for _ in labels]\n",
    "    for l in label.split(','):\n",
    "        vector[labels.index(l.strip())] = 1\n",
    "    encoded_labels.append(vector)\n",
    "\n",
    "encoded_labels = [e.index(1) for e in encoded_labels]"
   ]
  },
  {
   "cell_type": "code",
   "execution_count": 8,
   "metadata": {},
   "outputs": [],
   "source": [
    "#load model"
   ]
  },
  {
   "cell_type": "code",
   "execution_count": 9,
   "metadata": {},
   "outputs": [],
   "source": [
    "model = joblib.load('model.sav')"
   ]
  },
  {
   "cell_type": "code",
   "execution_count": 12,
   "metadata": {},
   "outputs": [
    {
     "data": {
      "text/plain": [
       "0.9315157839812157"
      ]
     },
     "execution_count": 12,
     "metadata": {},
     "output_type": "execute_result"
    }
   ],
   "source": [
    "model.score(tfidf_vector.toarray(), encoded_labels)"
   ]
  }
 ],
 "metadata": {
  "kernelspec": {
   "display_name": "Python 3",
   "language": "python",
   "name": "python3"
  },
  "language_info": {
   "codemirror_mode": {
    "name": "ipython",
    "version": 3
   },
   "file_extension": ".py",
   "mimetype": "text/x-python",
   "name": "python",
   "nbconvert_exporter": "python",
   "pygments_lexer": "ipython3",
   "version": "3.7.3"
  }
 },
 "nbformat": 4,
 "nbformat_minor": 2
}
